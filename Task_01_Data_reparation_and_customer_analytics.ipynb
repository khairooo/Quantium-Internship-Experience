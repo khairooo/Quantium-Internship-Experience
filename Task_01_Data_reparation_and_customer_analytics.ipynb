{
  "cells": [
    {
      "cell_type": "code",
      "execution_count": 393,
      "metadata": {
        "id": "7913f496"
      },
      "outputs": [],
      "source": [
        "# import packages\n",
        "\n",
        "import pandas as pd\n",
        "import numpy as np\n",
        "import matplotlib.pyplot as plt\n",
        "import seaborn as sns\n"
      ],
      "id": "7913f496"
    },
    {
      "cell_type": "markdown",
      "metadata": {
        "id": "9867a264"
      },
      "source": [
        "# Exploratory Data Analysis"
      ],
      "id": "9867a264"
    },
    {
      "cell_type": "markdown",
      "metadata": {
        "id": "7bdcd395"
      },
      "source": [
        "## 1 ) Transaction Data"
      ],
      "id": "7bdcd395"
    },
    {
      "cell_type": "code",
      "execution_count": 394,
      "metadata": {
        "id": "c58498a7"
      },
      "outputs": [],
      "source": [
        "# Load the data\n",
        "transaction = pd.read_excel(r\"/content/QVI_transaction_data.xlsx\")"
      ],
      "id": "c58498a7"
    },
    {
      "cell_type": "code",
      "execution_count": 395,
      "metadata": {
        "colab": {
          "base_uri": "https://localhost:8080/",
          "height": 424
        },
        "id": "9e8b4f3e",
        "outputId": "af54d1aa-d25c-4b92-d215-908cb7b9f0c4"
      },
      "outputs": [
        {
          "output_type": "execute_result",
          "data": {
            "text/plain": [
              "         DATE  STORE_NBR  LYLTY_CARD_NBR  TXN_ID  PROD_NBR  \\\n",
              "0       43390          1            1000       1         5   \n",
              "1       43599          1            1307     348        66   \n",
              "2       43605          1            1343     383        61   \n",
              "3       43329          2            2373     974        69   \n",
              "4       43330          2            2426    1038       108   \n",
              "...       ...        ...             ...     ...       ...   \n",
              "264831  43533        272          272319  270088        89   \n",
              "264832  43325        272          272358  270154        74   \n",
              "264833  43410        272          272379  270187        51   \n",
              "264834  43461        272          272379  270188        42   \n",
              "264835  43365        272          272380  270189        74   \n",
              "\n",
              "                                       PROD_NAME  PROD_QTY  TOT_SALES  \n",
              "0         Natural Chip        Compny SeaSalt175g         2        6.0  \n",
              "1                       CCs Nacho Cheese    175g         3        6.3  \n",
              "2         Smiths Crinkle Cut  Chips Chicken 170g         2        2.9  \n",
              "3         Smiths Chip Thinly  S/Cream&Onion 175g         5       15.0  \n",
              "4       Kettle Tortilla ChpsHny&Jlpno Chili 150g         3       13.8  \n",
              "...                                          ...       ...        ...  \n",
              "264831   Kettle Sweet Chilli And Sour Cream 175g         2       10.8  \n",
              "264832             Tostitos Splash Of  Lime 175g         1        4.4  \n",
              "264833                  Doritos Mexicana    170g         2        8.8  \n",
              "264834   Doritos Corn Chip Mexican Jalapeno 150g         2        7.8  \n",
              "264835             Tostitos Splash Of  Lime 175g         2        8.8  \n",
              "\n",
              "[264836 rows x 8 columns]"
            ],
            "text/html": [
              "\n",
              "  <div id=\"df-4666785d-5b6d-4f2b-a929-5acf84b6ab9f\" class=\"colab-df-container\">\n",
              "    <div>\n",
              "<style scoped>\n",
              "    .dataframe tbody tr th:only-of-type {\n",
              "        vertical-align: middle;\n",
              "    }\n",
              "\n",
              "    .dataframe tbody tr th {\n",
              "        vertical-align: top;\n",
              "    }\n",
              "\n",
              "    .dataframe thead th {\n",
              "        text-align: right;\n",
              "    }\n",
              "</style>\n",
              "<table border=\"1\" class=\"dataframe\">\n",
              "  <thead>\n",
              "    <tr style=\"text-align: right;\">\n",
              "      <th></th>\n",
              "      <th>DATE</th>\n",
              "      <th>STORE_NBR</th>\n",
              "      <th>LYLTY_CARD_NBR</th>\n",
              "      <th>TXN_ID</th>\n",
              "      <th>PROD_NBR</th>\n",
              "      <th>PROD_NAME</th>\n",
              "      <th>PROD_QTY</th>\n",
              "      <th>TOT_SALES</th>\n",
              "    </tr>\n",
              "  </thead>\n",
              "  <tbody>\n",
              "    <tr>\n",
              "      <th>0</th>\n",
              "      <td>43390</td>\n",
              "      <td>1</td>\n",
              "      <td>1000</td>\n",
              "      <td>1</td>\n",
              "      <td>5</td>\n",
              "      <td>Natural Chip        Compny SeaSalt175g</td>\n",
              "      <td>2</td>\n",
              "      <td>6.0</td>\n",
              "    </tr>\n",
              "    <tr>\n",
              "      <th>1</th>\n",
              "      <td>43599</td>\n",
              "      <td>1</td>\n",
              "      <td>1307</td>\n",
              "      <td>348</td>\n",
              "      <td>66</td>\n",
              "      <td>CCs Nacho Cheese    175g</td>\n",
              "      <td>3</td>\n",
              "      <td>6.3</td>\n",
              "    </tr>\n",
              "    <tr>\n",
              "      <th>2</th>\n",
              "      <td>43605</td>\n",
              "      <td>1</td>\n",
              "      <td>1343</td>\n",
              "      <td>383</td>\n",
              "      <td>61</td>\n",
              "      <td>Smiths Crinkle Cut  Chips Chicken 170g</td>\n",
              "      <td>2</td>\n",
              "      <td>2.9</td>\n",
              "    </tr>\n",
              "    <tr>\n",
              "      <th>3</th>\n",
              "      <td>43329</td>\n",
              "      <td>2</td>\n",
              "      <td>2373</td>\n",
              "      <td>974</td>\n",
              "      <td>69</td>\n",
              "      <td>Smiths Chip Thinly  S/Cream&amp;Onion 175g</td>\n",
              "      <td>5</td>\n",
              "      <td>15.0</td>\n",
              "    </tr>\n",
              "    <tr>\n",
              "      <th>4</th>\n",
              "      <td>43330</td>\n",
              "      <td>2</td>\n",
              "      <td>2426</td>\n",
              "      <td>1038</td>\n",
              "      <td>108</td>\n",
              "      <td>Kettle Tortilla ChpsHny&amp;Jlpno Chili 150g</td>\n",
              "      <td>3</td>\n",
              "      <td>13.8</td>\n",
              "    </tr>\n",
              "    <tr>\n",
              "      <th>...</th>\n",
              "      <td>...</td>\n",
              "      <td>...</td>\n",
              "      <td>...</td>\n",
              "      <td>...</td>\n",
              "      <td>...</td>\n",
              "      <td>...</td>\n",
              "      <td>...</td>\n",
              "      <td>...</td>\n",
              "    </tr>\n",
              "    <tr>\n",
              "      <th>264831</th>\n",
              "      <td>43533</td>\n",
              "      <td>272</td>\n",
              "      <td>272319</td>\n",
              "      <td>270088</td>\n",
              "      <td>89</td>\n",
              "      <td>Kettle Sweet Chilli And Sour Cream 175g</td>\n",
              "      <td>2</td>\n",
              "      <td>10.8</td>\n",
              "    </tr>\n",
              "    <tr>\n",
              "      <th>264832</th>\n",
              "      <td>43325</td>\n",
              "      <td>272</td>\n",
              "      <td>272358</td>\n",
              "      <td>270154</td>\n",
              "      <td>74</td>\n",
              "      <td>Tostitos Splash Of  Lime 175g</td>\n",
              "      <td>1</td>\n",
              "      <td>4.4</td>\n",
              "    </tr>\n",
              "    <tr>\n",
              "      <th>264833</th>\n",
              "      <td>43410</td>\n",
              "      <td>272</td>\n",
              "      <td>272379</td>\n",
              "      <td>270187</td>\n",
              "      <td>51</td>\n",
              "      <td>Doritos Mexicana    170g</td>\n",
              "      <td>2</td>\n",
              "      <td>8.8</td>\n",
              "    </tr>\n",
              "    <tr>\n",
              "      <th>264834</th>\n",
              "      <td>43461</td>\n",
              "      <td>272</td>\n",
              "      <td>272379</td>\n",
              "      <td>270188</td>\n",
              "      <td>42</td>\n",
              "      <td>Doritos Corn Chip Mexican Jalapeno 150g</td>\n",
              "      <td>2</td>\n",
              "      <td>7.8</td>\n",
              "    </tr>\n",
              "    <tr>\n",
              "      <th>264835</th>\n",
              "      <td>43365</td>\n",
              "      <td>272</td>\n",
              "      <td>272380</td>\n",
              "      <td>270189</td>\n",
              "      <td>74</td>\n",
              "      <td>Tostitos Splash Of  Lime 175g</td>\n",
              "      <td>2</td>\n",
              "      <td>8.8</td>\n",
              "    </tr>\n",
              "  </tbody>\n",
              "</table>\n",
              "<p>264836 rows × 8 columns</p>\n",
              "</div>\n",
              "    <div class=\"colab-df-buttons\">\n",
              "\n",
              "  <div class=\"colab-df-container\">\n",
              "    <button class=\"colab-df-convert\" onclick=\"convertToInteractive('df-4666785d-5b6d-4f2b-a929-5acf84b6ab9f')\"\n",
              "            title=\"Convert this dataframe to an interactive table.\"\n",
              "            style=\"display:none;\">\n",
              "\n",
              "  <svg xmlns=\"http://www.w3.org/2000/svg\" height=\"24px\" viewBox=\"0 -960 960 960\">\n",
              "    <path d=\"M120-120v-720h720v720H120Zm60-500h600v-160H180v160Zm220 220h160v-160H400v160Zm0 220h160v-160H400v160ZM180-400h160v-160H180v160Zm440 0h160v-160H620v160ZM180-180h160v-160H180v160Zm440 0h160v-160H620v160Z\"/>\n",
              "  </svg>\n",
              "    </button>\n",
              "\n",
              "  <style>\n",
              "    .colab-df-container {\n",
              "      display:flex;\n",
              "      gap: 12px;\n",
              "    }\n",
              "\n",
              "    .colab-df-convert {\n",
              "      background-color: #E8F0FE;\n",
              "      border: none;\n",
              "      border-radius: 50%;\n",
              "      cursor: pointer;\n",
              "      display: none;\n",
              "      fill: #1967D2;\n",
              "      height: 32px;\n",
              "      padding: 0 0 0 0;\n",
              "      width: 32px;\n",
              "    }\n",
              "\n",
              "    .colab-df-convert:hover {\n",
              "      background-color: #E2EBFA;\n",
              "      box-shadow: 0px 1px 2px rgba(60, 64, 67, 0.3), 0px 1px 3px 1px rgba(60, 64, 67, 0.15);\n",
              "      fill: #174EA6;\n",
              "    }\n",
              "\n",
              "    .colab-df-buttons div {\n",
              "      margin-bottom: 4px;\n",
              "    }\n",
              "\n",
              "    [theme=dark] .colab-df-convert {\n",
              "      background-color: #3B4455;\n",
              "      fill: #D2E3FC;\n",
              "    }\n",
              "\n",
              "    [theme=dark] .colab-df-convert:hover {\n",
              "      background-color: #434B5C;\n",
              "      box-shadow: 0px 1px 3px 1px rgba(0, 0, 0, 0.15);\n",
              "      filter: drop-shadow(0px 1px 2px rgba(0, 0, 0, 0.3));\n",
              "      fill: #FFFFFF;\n",
              "    }\n",
              "  </style>\n",
              "\n",
              "    <script>\n",
              "      const buttonEl =\n",
              "        document.querySelector('#df-4666785d-5b6d-4f2b-a929-5acf84b6ab9f button.colab-df-convert');\n",
              "      buttonEl.style.display =\n",
              "        google.colab.kernel.accessAllowed ? 'block' : 'none';\n",
              "\n",
              "      async function convertToInteractive(key) {\n",
              "        const element = document.querySelector('#df-4666785d-5b6d-4f2b-a929-5acf84b6ab9f');\n",
              "        const dataTable =\n",
              "          await google.colab.kernel.invokeFunction('convertToInteractive',\n",
              "                                                    [key], {});\n",
              "        if (!dataTable) return;\n",
              "\n",
              "        const docLinkHtml = 'Like what you see? Visit the ' +\n",
              "          '<a target=\"_blank\" href=https://colab.research.google.com/notebooks/data_table.ipynb>data table notebook</a>'\n",
              "          + ' to learn more about interactive tables.';\n",
              "        element.innerHTML = '';\n",
              "        dataTable['output_type'] = 'display_data';\n",
              "        await google.colab.output.renderOutput(dataTable, element);\n",
              "        const docLink = document.createElement('div');\n",
              "        docLink.innerHTML = docLinkHtml;\n",
              "        element.appendChild(docLink);\n",
              "      }\n",
              "    </script>\n",
              "  </div>\n",
              "\n",
              "\n",
              "<div id=\"df-c90980ae-0544-405a-9a7a-8bd9d6109061\">\n",
              "  <button class=\"colab-df-quickchart\" onclick=\"quickchart('df-c90980ae-0544-405a-9a7a-8bd9d6109061')\"\n",
              "            title=\"Suggest charts\"\n",
              "            style=\"display:none;\">\n",
              "\n",
              "<svg xmlns=\"http://www.w3.org/2000/svg\" height=\"24px\"viewBox=\"0 0 24 24\"\n",
              "     width=\"24px\">\n",
              "    <g>\n",
              "        <path d=\"M19 3H5c-1.1 0-2 .9-2 2v14c0 1.1.9 2 2 2h14c1.1 0 2-.9 2-2V5c0-1.1-.9-2-2-2zM9 17H7v-7h2v7zm4 0h-2V7h2v10zm4 0h-2v-4h2v4z\"/>\n",
              "    </g>\n",
              "</svg>\n",
              "  </button>\n",
              "\n",
              "<style>\n",
              "  .colab-df-quickchart {\n",
              "      --bg-color: #E8F0FE;\n",
              "      --fill-color: #1967D2;\n",
              "      --hover-bg-color: #E2EBFA;\n",
              "      --hover-fill-color: #174EA6;\n",
              "      --disabled-fill-color: #AAA;\n",
              "      --disabled-bg-color: #DDD;\n",
              "  }\n",
              "\n",
              "  [theme=dark] .colab-df-quickchart {\n",
              "      --bg-color: #3B4455;\n",
              "      --fill-color: #D2E3FC;\n",
              "      --hover-bg-color: #434B5C;\n",
              "      --hover-fill-color: #FFFFFF;\n",
              "      --disabled-bg-color: #3B4455;\n",
              "      --disabled-fill-color: #666;\n",
              "  }\n",
              "\n",
              "  .colab-df-quickchart {\n",
              "    background-color: var(--bg-color);\n",
              "    border: none;\n",
              "    border-radius: 50%;\n",
              "    cursor: pointer;\n",
              "    display: none;\n",
              "    fill: var(--fill-color);\n",
              "    height: 32px;\n",
              "    padding: 0;\n",
              "    width: 32px;\n",
              "  }\n",
              "\n",
              "  .colab-df-quickchart:hover {\n",
              "    background-color: var(--hover-bg-color);\n",
              "    box-shadow: 0 1px 2px rgba(60, 64, 67, 0.3), 0 1px 3px 1px rgba(60, 64, 67, 0.15);\n",
              "    fill: var(--button-hover-fill-color);\n",
              "  }\n",
              "\n",
              "  .colab-df-quickchart-complete:disabled,\n",
              "  .colab-df-quickchart-complete:disabled:hover {\n",
              "    background-color: var(--disabled-bg-color);\n",
              "    fill: var(--disabled-fill-color);\n",
              "    box-shadow: none;\n",
              "  }\n",
              "\n",
              "  .colab-df-spinner {\n",
              "    border: 2px solid var(--fill-color);\n",
              "    border-color: transparent;\n",
              "    border-bottom-color: var(--fill-color);\n",
              "    animation:\n",
              "      spin 1s steps(1) infinite;\n",
              "  }\n",
              "\n",
              "  @keyframes spin {\n",
              "    0% {\n",
              "      border-color: transparent;\n",
              "      border-bottom-color: var(--fill-color);\n",
              "      border-left-color: var(--fill-color);\n",
              "    }\n",
              "    20% {\n",
              "      border-color: transparent;\n",
              "      border-left-color: var(--fill-color);\n",
              "      border-top-color: var(--fill-color);\n",
              "    }\n",
              "    30% {\n",
              "      border-color: transparent;\n",
              "      border-left-color: var(--fill-color);\n",
              "      border-top-color: var(--fill-color);\n",
              "      border-right-color: var(--fill-color);\n",
              "    }\n",
              "    40% {\n",
              "      border-color: transparent;\n",
              "      border-right-color: var(--fill-color);\n",
              "      border-top-color: var(--fill-color);\n",
              "    }\n",
              "    60% {\n",
              "      border-color: transparent;\n",
              "      border-right-color: var(--fill-color);\n",
              "    }\n",
              "    80% {\n",
              "      border-color: transparent;\n",
              "      border-right-color: var(--fill-color);\n",
              "      border-bottom-color: var(--fill-color);\n",
              "    }\n",
              "    90% {\n",
              "      border-color: transparent;\n",
              "      border-bottom-color: var(--fill-color);\n",
              "    }\n",
              "  }\n",
              "</style>\n",
              "\n",
              "  <script>\n",
              "    async function quickchart(key) {\n",
              "      const quickchartButtonEl =\n",
              "        document.querySelector('#' + key + ' button');\n",
              "      quickchartButtonEl.disabled = true;  // To prevent multiple clicks.\n",
              "      quickchartButtonEl.classList.add('colab-df-spinner');\n",
              "      try {\n",
              "        const charts = await google.colab.kernel.invokeFunction(\n",
              "            'suggestCharts', [key], {});\n",
              "      } catch (error) {\n",
              "        console.error('Error during call to suggestCharts:', error);\n",
              "      }\n",
              "      quickchartButtonEl.classList.remove('colab-df-spinner');\n",
              "      quickchartButtonEl.classList.add('colab-df-quickchart-complete');\n",
              "    }\n",
              "    (() => {\n",
              "      let quickchartButtonEl =\n",
              "        document.querySelector('#df-c90980ae-0544-405a-9a7a-8bd9d6109061 button');\n",
              "      quickchartButtonEl.style.display =\n",
              "        google.colab.kernel.accessAllowed ? 'block' : 'none';\n",
              "    })();\n",
              "  </script>\n",
              "</div>\n",
              "\n",
              "  <div id=\"id_e3750af0-c8d5-460e-8f90-5d15d5f9ffd8\">\n",
              "    <style>\n",
              "      .colab-df-generate {\n",
              "        background-color: #E8F0FE;\n",
              "        border: none;\n",
              "        border-radius: 50%;\n",
              "        cursor: pointer;\n",
              "        display: none;\n",
              "        fill: #1967D2;\n",
              "        height: 32px;\n",
              "        padding: 0 0 0 0;\n",
              "        width: 32px;\n",
              "      }\n",
              "\n",
              "      .colab-df-generate:hover {\n",
              "        background-color: #E2EBFA;\n",
              "        box-shadow: 0px 1px 2px rgba(60, 64, 67, 0.3), 0px 1px 3px 1px rgba(60, 64, 67, 0.15);\n",
              "        fill: #174EA6;\n",
              "      }\n",
              "\n",
              "      [theme=dark] .colab-df-generate {\n",
              "        background-color: #3B4455;\n",
              "        fill: #D2E3FC;\n",
              "      }\n",
              "\n",
              "      [theme=dark] .colab-df-generate:hover {\n",
              "        background-color: #434B5C;\n",
              "        box-shadow: 0px 1px 3px 1px rgba(0, 0, 0, 0.15);\n",
              "        filter: drop-shadow(0px 1px 2px rgba(0, 0, 0, 0.3));\n",
              "        fill: #FFFFFF;\n",
              "      }\n",
              "    </style>\n",
              "    <button class=\"colab-df-generate\" onclick=\"generateWithVariable('transaction')\"\n",
              "            title=\"Generate code using this dataframe.\"\n",
              "            style=\"display:none;\">\n",
              "\n",
              "  <svg xmlns=\"http://www.w3.org/2000/svg\" height=\"24px\"viewBox=\"0 0 24 24\"\n",
              "       width=\"24px\">\n",
              "    <path d=\"M7,19H8.4L18.45,9,17,7.55,7,17.6ZM5,21V16.75L18.45,3.32a2,2,0,0,1,2.83,0l1.4,1.43a1.91,1.91,0,0,1,.58,1.4,1.91,1.91,0,0,1-.58,1.4L9.25,21ZM18.45,9,17,7.55Zm-12,3A5.31,5.31,0,0,0,4.9,8.1,5.31,5.31,0,0,0,1,6.5,5.31,5.31,0,0,0,4.9,4.9,5.31,5.31,0,0,0,6.5,1,5.31,5.31,0,0,0,8.1,4.9,5.31,5.31,0,0,0,12,6.5,5.46,5.46,0,0,0,6.5,12Z\"/>\n",
              "  </svg>\n",
              "    </button>\n",
              "    <script>\n",
              "      (() => {\n",
              "      const buttonEl =\n",
              "        document.querySelector('#id_e3750af0-c8d5-460e-8f90-5d15d5f9ffd8 button.colab-df-generate');\n",
              "      buttonEl.style.display =\n",
              "        google.colab.kernel.accessAllowed ? 'block' : 'none';\n",
              "\n",
              "      buttonEl.onclick = () => {\n",
              "        google.colab.notebook.generateWithVariable('transaction');\n",
              "      }\n",
              "      })();\n",
              "    </script>\n",
              "  </div>\n",
              "\n",
              "    </div>\n",
              "  </div>\n"
            ]
          },
          "metadata": {},
          "execution_count": 395
        }
      ],
      "source": [
        "transaction"
      ],
      "id": "9e8b4f3e"
    },
    {
      "cell_type": "code",
      "execution_count": 396,
      "metadata": {
        "colab": {
          "base_uri": "https://localhost:8080/"
        },
        "id": "90a15cb8",
        "outputId": "3721e120-707a-4306-cfac-f1cd9f2ce90a"
      },
      "outputs": [
        {
          "output_type": "stream",
          "name": "stdout",
          "text": [
            "<class 'pandas.core.frame.DataFrame'>\n",
            "RangeIndex: 264836 entries, 0 to 264835\n",
            "Data columns (total 8 columns):\n",
            " #   Column          Non-Null Count   Dtype  \n",
            "---  ------          --------------   -----  \n",
            " 0   DATE            264836 non-null  int64  \n",
            " 1   STORE_NBR       264836 non-null  int64  \n",
            " 2   LYLTY_CARD_NBR  264836 non-null  int64  \n",
            " 3   TXN_ID          264836 non-null  int64  \n",
            " 4   PROD_NBR        264836 non-null  int64  \n",
            " 5   PROD_NAME       264836 non-null  object \n",
            " 6   PROD_QTY        264836 non-null  int64  \n",
            " 7   TOT_SALES       264836 non-null  float64\n",
            "dtypes: float64(1), int64(6), object(1)\n",
            "memory usage: 16.2+ MB\n"
          ]
        }
      ],
      "source": [
        "transaction.info()"
      ],
      "id": "90a15cb8"
    },
    {
      "cell_type": "code",
      "execution_count": 397,
      "metadata": {
        "colab": {
          "base_uri": "https://localhost:8080/"
        },
        "id": "9d389e03",
        "outputId": "d128247d-5808-44a1-ef3d-f7d38c884f12"
      },
      "outputs": [
        {
          "output_type": "execute_result",
          "data": {
            "text/plain": [
              "1709"
            ]
          },
          "metadata": {},
          "execution_count": 397
        }
      ],
      "source": [
        "# Check TXN_ID duplicate ID\n",
        "transaction.TXN_ID.duplicated().sum()"
      ],
      "id": "9d389e03"
    },
    {
      "cell_type": "markdown",
      "metadata": {
        "id": "06fc8fde"
      },
      "source": [
        "##### Missing data"
      ],
      "id": "06fc8fde"
    },
    {
      "cell_type": "code",
      "execution_count": 398,
      "metadata": {
        "colab": {
          "base_uri": "https://localhost:8080/"
        },
        "id": "889ecb24",
        "outputId": "9660dd8d-aaed-4b61-d998-c432713ee153"
      },
      "outputs": [
        {
          "output_type": "execute_result",
          "data": {
            "text/plain": [
              "DATE              0\n",
              "STORE_NBR         0\n",
              "LYLTY_CARD_NBR    0\n",
              "TXN_ID            0\n",
              "PROD_NBR          0\n",
              "PROD_NAME         0\n",
              "PROD_QTY          0\n",
              "TOT_SALES         0\n",
              "dtype: int64"
            ]
          },
          "metadata": {},
          "execution_count": 398
        }
      ],
      "source": [
        "transaction.isnull().sum()"
      ],
      "id": "889ecb24"
    },
    {
      "cell_type": "markdown",
      "metadata": {
        "id": "7b3671f8"
      },
      "source": [
        "- Zero null value in Our data provided"
      ],
      "id": "7b3671f8"
    },
    {
      "cell_type": "markdown",
      "metadata": {
        "id": "kE5YSz_s7mWJ"
      },
      "source": [
        "#### PROD_NAME\n",
        "### PROD_NAME\n",
        "- PROD_NAME is kind of long phrases with nonsense line, in this part I ahould be better to clean it and reduce the size of each item to one or two words with meaningful items\n",
        "- As we are only interested in words that will tell us if the product is chips or not, let’s remove all words with\n",
        "digits and special characters such as ‘&’ from our set of product words.\n",
        "\n"
      ],
      "id": "kE5YSz_s7mWJ"
    },
    {
      "cell_type": "code",
      "execution_count": 417,
      "metadata": {
        "id": "Jgpcx8H893ui",
        "colab": {
          "base_uri": "https://localhost:8080/"
        },
        "outputId": "f1b320a1-e7f8-4b5e-f966-cb08c12f84bc"
      },
      "outputs": [
        {
          "output_type": "stream",
          "name": "stderr",
          "text": [
            "<ipython-input-417-91747966fe3c>:2: FutureWarning: The default value of regex will change from True to False in a future version.\n",
            "  transaction['PROD_NAME'] = transaction['PROD_NAME'].str.replace(r'[^a-zA-Z]+g?G?\\s*$', '', regex = True).str.replace(\"S/\",\"\").str.replace(\"&\",\"\").str.replace(r\"\\d+\",\"\")\n"
          ]
        }
      ],
      "source": [
        "\n",
        "# remove the letter 'g' at the end of each row and all non-alphabetic characters\n",
        "transaction['PROD_NAME'] = transaction['PROD_NAME'].str.replace(r'[^a-zA-Z]+g?G?\\s*$', '', regex = True).str.replace(\"S/\",\"\").str.replace(\"&\",\"\").str.replace(r\"\\d+\",\"\")"
      ],
      "id": "Jgpcx8H893ui"
    },
    {
      "cell_type": "code",
      "execution_count": 418,
      "metadata": {
        "colab": {
          "base_uri": "https://localhost:8080/",
          "height": 363
        },
        "id": "5srhEWar8CTG",
        "outputId": "ff7c2a4d-e5f7-4be7-f34b-0f38d286528b"
      },
      "outputs": [
        {
          "output_type": "execute_result",
          "data": {
            "text/plain": [
              "    DATE  STORE_NBR  LYLTY_CARD_NBR  TXN_ID  PROD_NBR  \\\n",
              "0  43390          1            1000       1         5   \n",
              "1  43599          1            1307     348        66   \n",
              "2  43605          1            1343     383        61   \n",
              "3  43329          2            2373     974        69   \n",
              "4  43330          2            2426    1038       108   \n",
              "5  43604          4            4074    2982        57   \n",
              "6  43601          4            4149    3333        16   \n",
              "7  43601          4            4196    3539        24   \n",
              "8  43332          5            5026    4525        42   \n",
              "9  43330          7            7150    6900        52   \n",
              "\n",
              "                             PROD_NAME  PROD_QTY  TOT_SALES  \n",
              "0   Natural Chip        Compny SeaSalt         2        6.0  \n",
              "1                     CCs Nacho Cheese         3        6.3  \n",
              "2    Smiths Crinkle Cut  Chips Chicken         2        2.9  \n",
              "3       Smiths Chip Thinly  CreamOnion         5       15.0  \n",
              "4   Kettle Tortilla ChpsHnyJlpno Chili         3       13.8  \n",
              "5  Old El Paso Salsa   Dip Tomato Mild         1        5.1  \n",
              "6   Smiths Crinkle Chips Salt  Vinegar         1        5.7  \n",
              "7     Grain Waves         Sweet Chilli         1        3.6  \n",
              "8   Doritos Corn Chip Mexican Jalapeno         1        3.9  \n",
              "9      Grain Waves Sour    CreamChives         2        7.2  "
            ],
            "text/html": [
              "\n",
              "  <div id=\"df-ddce6121-3a75-4f4d-a754-63cb531fe342\" class=\"colab-df-container\">\n",
              "    <div>\n",
              "<style scoped>\n",
              "    .dataframe tbody tr th:only-of-type {\n",
              "        vertical-align: middle;\n",
              "    }\n",
              "\n",
              "    .dataframe tbody tr th {\n",
              "        vertical-align: top;\n",
              "    }\n",
              "\n",
              "    .dataframe thead th {\n",
              "        text-align: right;\n",
              "    }\n",
              "</style>\n",
              "<table border=\"1\" class=\"dataframe\">\n",
              "  <thead>\n",
              "    <tr style=\"text-align: right;\">\n",
              "      <th></th>\n",
              "      <th>DATE</th>\n",
              "      <th>STORE_NBR</th>\n",
              "      <th>LYLTY_CARD_NBR</th>\n",
              "      <th>TXN_ID</th>\n",
              "      <th>PROD_NBR</th>\n",
              "      <th>PROD_NAME</th>\n",
              "      <th>PROD_QTY</th>\n",
              "      <th>TOT_SALES</th>\n",
              "    </tr>\n",
              "  </thead>\n",
              "  <tbody>\n",
              "    <tr>\n",
              "      <th>0</th>\n",
              "      <td>43390</td>\n",
              "      <td>1</td>\n",
              "      <td>1000</td>\n",
              "      <td>1</td>\n",
              "      <td>5</td>\n",
              "      <td>Natural Chip        Compny SeaSalt</td>\n",
              "      <td>2</td>\n",
              "      <td>6.0</td>\n",
              "    </tr>\n",
              "    <tr>\n",
              "      <th>1</th>\n",
              "      <td>43599</td>\n",
              "      <td>1</td>\n",
              "      <td>1307</td>\n",
              "      <td>348</td>\n",
              "      <td>66</td>\n",
              "      <td>CCs Nacho Cheese</td>\n",
              "      <td>3</td>\n",
              "      <td>6.3</td>\n",
              "    </tr>\n",
              "    <tr>\n",
              "      <th>2</th>\n",
              "      <td>43605</td>\n",
              "      <td>1</td>\n",
              "      <td>1343</td>\n",
              "      <td>383</td>\n",
              "      <td>61</td>\n",
              "      <td>Smiths Crinkle Cut  Chips Chicken</td>\n",
              "      <td>2</td>\n",
              "      <td>2.9</td>\n",
              "    </tr>\n",
              "    <tr>\n",
              "      <th>3</th>\n",
              "      <td>43329</td>\n",
              "      <td>2</td>\n",
              "      <td>2373</td>\n",
              "      <td>974</td>\n",
              "      <td>69</td>\n",
              "      <td>Smiths Chip Thinly  CreamOnion</td>\n",
              "      <td>5</td>\n",
              "      <td>15.0</td>\n",
              "    </tr>\n",
              "    <tr>\n",
              "      <th>4</th>\n",
              "      <td>43330</td>\n",
              "      <td>2</td>\n",
              "      <td>2426</td>\n",
              "      <td>1038</td>\n",
              "      <td>108</td>\n",
              "      <td>Kettle Tortilla ChpsHnyJlpno Chili</td>\n",
              "      <td>3</td>\n",
              "      <td>13.8</td>\n",
              "    </tr>\n",
              "    <tr>\n",
              "      <th>5</th>\n",
              "      <td>43604</td>\n",
              "      <td>4</td>\n",
              "      <td>4074</td>\n",
              "      <td>2982</td>\n",
              "      <td>57</td>\n",
              "      <td>Old El Paso Salsa   Dip Tomato Mild</td>\n",
              "      <td>1</td>\n",
              "      <td>5.1</td>\n",
              "    </tr>\n",
              "    <tr>\n",
              "      <th>6</th>\n",
              "      <td>43601</td>\n",
              "      <td>4</td>\n",
              "      <td>4149</td>\n",
              "      <td>3333</td>\n",
              "      <td>16</td>\n",
              "      <td>Smiths Crinkle Chips Salt  Vinegar</td>\n",
              "      <td>1</td>\n",
              "      <td>5.7</td>\n",
              "    </tr>\n",
              "    <tr>\n",
              "      <th>7</th>\n",
              "      <td>43601</td>\n",
              "      <td>4</td>\n",
              "      <td>4196</td>\n",
              "      <td>3539</td>\n",
              "      <td>24</td>\n",
              "      <td>Grain Waves         Sweet Chilli</td>\n",
              "      <td>1</td>\n",
              "      <td>3.6</td>\n",
              "    </tr>\n",
              "    <tr>\n",
              "      <th>8</th>\n",
              "      <td>43332</td>\n",
              "      <td>5</td>\n",
              "      <td>5026</td>\n",
              "      <td>4525</td>\n",
              "      <td>42</td>\n",
              "      <td>Doritos Corn Chip Mexican Jalapeno</td>\n",
              "      <td>1</td>\n",
              "      <td>3.9</td>\n",
              "    </tr>\n",
              "    <tr>\n",
              "      <th>9</th>\n",
              "      <td>43330</td>\n",
              "      <td>7</td>\n",
              "      <td>7150</td>\n",
              "      <td>6900</td>\n",
              "      <td>52</td>\n",
              "      <td>Grain Waves Sour    CreamChives</td>\n",
              "      <td>2</td>\n",
              "      <td>7.2</td>\n",
              "    </tr>\n",
              "  </tbody>\n",
              "</table>\n",
              "</div>\n",
              "    <div class=\"colab-df-buttons\">\n",
              "\n",
              "  <div class=\"colab-df-container\">\n",
              "    <button class=\"colab-df-convert\" onclick=\"convertToInteractive('df-ddce6121-3a75-4f4d-a754-63cb531fe342')\"\n",
              "            title=\"Convert this dataframe to an interactive table.\"\n",
              "            style=\"display:none;\">\n",
              "\n",
              "  <svg xmlns=\"http://www.w3.org/2000/svg\" height=\"24px\" viewBox=\"0 -960 960 960\">\n",
              "    <path d=\"M120-120v-720h720v720H120Zm60-500h600v-160H180v160Zm220 220h160v-160H400v160Zm0 220h160v-160H400v160ZM180-400h160v-160H180v160Zm440 0h160v-160H620v160ZM180-180h160v-160H180v160Zm440 0h160v-160H620v160Z\"/>\n",
              "  </svg>\n",
              "    </button>\n",
              "\n",
              "  <style>\n",
              "    .colab-df-container {\n",
              "      display:flex;\n",
              "      gap: 12px;\n",
              "    }\n",
              "\n",
              "    .colab-df-convert {\n",
              "      background-color: #E8F0FE;\n",
              "      border: none;\n",
              "      border-radius: 50%;\n",
              "      cursor: pointer;\n",
              "      display: none;\n",
              "      fill: #1967D2;\n",
              "      height: 32px;\n",
              "      padding: 0 0 0 0;\n",
              "      width: 32px;\n",
              "    }\n",
              "\n",
              "    .colab-df-convert:hover {\n",
              "      background-color: #E2EBFA;\n",
              "      box-shadow: 0px 1px 2px rgba(60, 64, 67, 0.3), 0px 1px 3px 1px rgba(60, 64, 67, 0.15);\n",
              "      fill: #174EA6;\n",
              "    }\n",
              "\n",
              "    .colab-df-buttons div {\n",
              "      margin-bottom: 4px;\n",
              "    }\n",
              "\n",
              "    [theme=dark] .colab-df-convert {\n",
              "      background-color: #3B4455;\n",
              "      fill: #D2E3FC;\n",
              "    }\n",
              "\n",
              "    [theme=dark] .colab-df-convert:hover {\n",
              "      background-color: #434B5C;\n",
              "      box-shadow: 0px 1px 3px 1px rgba(0, 0, 0, 0.15);\n",
              "      filter: drop-shadow(0px 1px 2px rgba(0, 0, 0, 0.3));\n",
              "      fill: #FFFFFF;\n",
              "    }\n",
              "  </style>\n",
              "\n",
              "    <script>\n",
              "      const buttonEl =\n",
              "        document.querySelector('#df-ddce6121-3a75-4f4d-a754-63cb531fe342 button.colab-df-convert');\n",
              "      buttonEl.style.display =\n",
              "        google.colab.kernel.accessAllowed ? 'block' : 'none';\n",
              "\n",
              "      async function convertToInteractive(key) {\n",
              "        const element = document.querySelector('#df-ddce6121-3a75-4f4d-a754-63cb531fe342');\n",
              "        const dataTable =\n",
              "          await google.colab.kernel.invokeFunction('convertToInteractive',\n",
              "                                                    [key], {});\n",
              "        if (!dataTable) return;\n",
              "\n",
              "        const docLinkHtml = 'Like what you see? Visit the ' +\n",
              "          '<a target=\"_blank\" href=https://colab.research.google.com/notebooks/data_table.ipynb>data table notebook</a>'\n",
              "          + ' to learn more about interactive tables.';\n",
              "        element.innerHTML = '';\n",
              "        dataTable['output_type'] = 'display_data';\n",
              "        await google.colab.output.renderOutput(dataTable, element);\n",
              "        const docLink = document.createElement('div');\n",
              "        docLink.innerHTML = docLinkHtml;\n",
              "        element.appendChild(docLink);\n",
              "      }\n",
              "    </script>\n",
              "  </div>\n",
              "\n",
              "\n",
              "<div id=\"df-91b9a81e-91fd-44b6-a90c-0f548fa90d83\">\n",
              "  <button class=\"colab-df-quickchart\" onclick=\"quickchart('df-91b9a81e-91fd-44b6-a90c-0f548fa90d83')\"\n",
              "            title=\"Suggest charts\"\n",
              "            style=\"display:none;\">\n",
              "\n",
              "<svg xmlns=\"http://www.w3.org/2000/svg\" height=\"24px\"viewBox=\"0 0 24 24\"\n",
              "     width=\"24px\">\n",
              "    <g>\n",
              "        <path d=\"M19 3H5c-1.1 0-2 .9-2 2v14c0 1.1.9 2 2 2h14c1.1 0 2-.9 2-2V5c0-1.1-.9-2-2-2zM9 17H7v-7h2v7zm4 0h-2V7h2v10zm4 0h-2v-4h2v4z\"/>\n",
              "    </g>\n",
              "</svg>\n",
              "  </button>\n",
              "\n",
              "<style>\n",
              "  .colab-df-quickchart {\n",
              "      --bg-color: #E8F0FE;\n",
              "      --fill-color: #1967D2;\n",
              "      --hover-bg-color: #E2EBFA;\n",
              "      --hover-fill-color: #174EA6;\n",
              "      --disabled-fill-color: #AAA;\n",
              "      --disabled-bg-color: #DDD;\n",
              "  }\n",
              "\n",
              "  [theme=dark] .colab-df-quickchart {\n",
              "      --bg-color: #3B4455;\n",
              "      --fill-color: #D2E3FC;\n",
              "      --hover-bg-color: #434B5C;\n",
              "      --hover-fill-color: #FFFFFF;\n",
              "      --disabled-bg-color: #3B4455;\n",
              "      --disabled-fill-color: #666;\n",
              "  }\n",
              "\n",
              "  .colab-df-quickchart {\n",
              "    background-color: var(--bg-color);\n",
              "    border: none;\n",
              "    border-radius: 50%;\n",
              "    cursor: pointer;\n",
              "    display: none;\n",
              "    fill: var(--fill-color);\n",
              "    height: 32px;\n",
              "    padding: 0;\n",
              "    width: 32px;\n",
              "  }\n",
              "\n",
              "  .colab-df-quickchart:hover {\n",
              "    background-color: var(--hover-bg-color);\n",
              "    box-shadow: 0 1px 2px rgba(60, 64, 67, 0.3), 0 1px 3px 1px rgba(60, 64, 67, 0.15);\n",
              "    fill: var(--button-hover-fill-color);\n",
              "  }\n",
              "\n",
              "  .colab-df-quickchart-complete:disabled,\n",
              "  .colab-df-quickchart-complete:disabled:hover {\n",
              "    background-color: var(--disabled-bg-color);\n",
              "    fill: var(--disabled-fill-color);\n",
              "    box-shadow: none;\n",
              "  }\n",
              "\n",
              "  .colab-df-spinner {\n",
              "    border: 2px solid var(--fill-color);\n",
              "    border-color: transparent;\n",
              "    border-bottom-color: var(--fill-color);\n",
              "    animation:\n",
              "      spin 1s steps(1) infinite;\n",
              "  }\n",
              "\n",
              "  @keyframes spin {\n",
              "    0% {\n",
              "      border-color: transparent;\n",
              "      border-bottom-color: var(--fill-color);\n",
              "      border-left-color: var(--fill-color);\n",
              "    }\n",
              "    20% {\n",
              "      border-color: transparent;\n",
              "      border-left-color: var(--fill-color);\n",
              "      border-top-color: var(--fill-color);\n",
              "    }\n",
              "    30% {\n",
              "      border-color: transparent;\n",
              "      border-left-color: var(--fill-color);\n",
              "      border-top-color: var(--fill-color);\n",
              "      border-right-color: var(--fill-color);\n",
              "    }\n",
              "    40% {\n",
              "      border-color: transparent;\n",
              "      border-right-color: var(--fill-color);\n",
              "      border-top-color: var(--fill-color);\n",
              "    }\n",
              "    60% {\n",
              "      border-color: transparent;\n",
              "      border-right-color: var(--fill-color);\n",
              "    }\n",
              "    80% {\n",
              "      border-color: transparent;\n",
              "      border-right-color: var(--fill-color);\n",
              "      border-bottom-color: var(--fill-color);\n",
              "    }\n",
              "    90% {\n",
              "      border-color: transparent;\n",
              "      border-bottom-color: var(--fill-color);\n",
              "    }\n",
              "  }\n",
              "</style>\n",
              "\n",
              "  <script>\n",
              "    async function quickchart(key) {\n",
              "      const quickchartButtonEl =\n",
              "        document.querySelector('#' + key + ' button');\n",
              "      quickchartButtonEl.disabled = true;  // To prevent multiple clicks.\n",
              "      quickchartButtonEl.classList.add('colab-df-spinner');\n",
              "      try {\n",
              "        const charts = await google.colab.kernel.invokeFunction(\n",
              "            'suggestCharts', [key], {});\n",
              "      } catch (error) {\n",
              "        console.error('Error during call to suggestCharts:', error);\n",
              "      }\n",
              "      quickchartButtonEl.classList.remove('colab-df-spinner');\n",
              "      quickchartButtonEl.classList.add('colab-df-quickchart-complete');\n",
              "    }\n",
              "    (() => {\n",
              "      let quickchartButtonEl =\n",
              "        document.querySelector('#df-91b9a81e-91fd-44b6-a90c-0f548fa90d83 button');\n",
              "      quickchartButtonEl.style.display =\n",
              "        google.colab.kernel.accessAllowed ? 'block' : 'none';\n",
              "    })();\n",
              "  </script>\n",
              "</div>\n",
              "\n",
              "    </div>\n",
              "  </div>\n"
            ]
          },
          "metadata": {},
          "execution_count": 418
        }
      ],
      "source": [
        "# Checking 10 rows\n",
        "transaction.head(10)"
      ],
      "id": "5srhEWar8CTG"
    },
    {
      "cell_type": "markdown",
      "metadata": {
        "id": "TWR8ADNlSonK"
      },
      "source": [
        " - Date column became more readable an more useful with Date format which can be used to do time series forecasting and analysis throughout the time"
      ],
      "id": "TWR8ADNlSonK"
    },
    {
      "cell_type": "code",
      "execution_count": null,
      "metadata": {
        "id": "rcLNsjy2SrI-"
      },
      "outputs": [],
      "source": [
        "# Covert DATE from digit to a date format\n",
        "transaction['DATE'] = pd.to_datetime(pd.to_numeric(transaction['DATE'],errors='coerce'),unit = \"D\", origin = \"1899-12-30\")\n",
        "transaction[\"DATE\"]"
      ],
      "id": "rcLNsjy2SrI-"
    },
    {
      "cell_type": "markdown",
      "metadata": {
        "id": "5927dcee"
      },
      "source": [
        "#### STORE_NBR"
      ],
      "id": "5927dcee"
    },
    {
      "cell_type": "code",
      "execution_count": null,
      "metadata": {
        "id": "50de375d"
      },
      "outputs": [],
      "source": [
        "# The best 10 stores listed\n",
        "print(transaction[\"STORE_NBR\"].value_counts()[:10])\n",
        "# the best 10 Store Number graph\n",
        "transaction[\"STORE_NBR\"].value_counts()[:10].plot.bar(title= \"THE BEST 10 STORES\")"
      ],
      "id": "50de375d"
    },
    {
      "cell_type": "markdown",
      "metadata": {
        "id": "a9393de5"
      },
      "source": [
        "- It can be seen that the *Store* with number **226** is the most frequent store with **2022** times followed by the **Store 88** with **1873** times"
      ],
      "id": "a9393de5"
    },
    {
      "cell_type": "markdown",
      "metadata": {
        "id": "a98c2ae6"
      },
      "source": [
        "#### PRODUCT_NBR"
      ],
      "id": "a98c2ae6"
    },
    {
      "cell_type": "code",
      "execution_count": null,
      "metadata": {
        "id": "e8123961"
      },
      "outputs": [],
      "source": [
        "len(transaction[\"PROD_NBR\"].unique())"
      ],
      "id": "e8123961"
    },
    {
      "cell_type": "markdown",
      "metadata": {
        "id": "4c857716"
      },
      "source": [
        "114 Is the number of the unique Products with no duplication"
      ],
      "id": "4c857716"
    },
    {
      "cell_type": "markdown",
      "metadata": {
        "id": "f69f5847"
      },
      "source": [
        "- There were *114* unique purchased product"
      ],
      "id": "f69f5847"
    },
    {
      "cell_type": "code",
      "execution_count": null,
      "metadata": {
        "id": "e9a54f3f"
      },
      "outputs": [],
      "source": [
        "# The best 10 Products and most purchased\n",
        "print(transaction[\"PROD_NBR\"].value_counts()[:5])\n",
        "transaction[\"PROD_NBR\"].value_counts()[:5].plot.bar(color = 'r')"
      ],
      "id": "e9a54f3f"
    },
    {
      "cell_type": "markdown",
      "metadata": {
        "id": "de069000"
      },
      "source": [
        "The most purchased products are, at first **102 108 33 112 75 **  with more than 3000 times"
      ],
      "id": "de069000"
    },
    {
      "cell_type": "markdown",
      "metadata": {
        "id": "2d5aff2c"
      },
      "source": [
        "#### PROD_NBR\tPROD_NAME"
      ],
      "id": "2d5aff2c"
    },
    {
      "cell_type": "markdown",
      "metadata": {
        "id": "6BoO5P7rvk2O"
      },
      "source": [
        "## Let's get the right name of each product"
      ],
      "id": "6BoO5P7rvk2O"
    },
    {
      "cell_type": "code",
      "execution_count": null,
      "metadata": {
        "id": "2ef50c1d"
      },
      "outputs": [],
      "source": [
        "prod = pd.Series(transaction.PROD_NBR.unique())  #.nunique()"
      ],
      "id": "2ef50c1d"
    },
    {
      "cell_type": "code",
      "execution_count": null,
      "metadata": {
        "id": "5d7c2749"
      },
      "outputs": [],
      "source": [
        "name=pd.Series(transaction.PROD_NAME.unique())   #.nunique()"
      ],
      "id": "5d7c2749"
    },
    {
      "cell_type": "code",
      "execution_count": null,
      "metadata": {
        "id": "bea87263"
      },
      "outputs": [],
      "source": [
        "ls = []\n",
        "\n",
        "for x in range(len(prod)):\n",
        "  y = name[x]\n",
        "  z = prod[x]\n",
        "  lst = [y,z]\n",
        "  ls.append(lst)\n",
        "\n",
        "\n"
      ],
      "id": "bea87263"
    },
    {
      "cell_type": "code",
      "execution_count": null,
      "metadata": {
        "id": "wWUtQ-hsxMyq"
      },
      "outputs": [],
      "source": [
        "# list of 10 of each product with the number representative\n",
        "ls[:10]"
      ],
      "id": "wWUtQ-hsxMyq"
    },
    {
      "cell_type": "code",
      "execution_count": null,
      "metadata": {
        "id": "27fbec5f"
      },
      "outputs": [],
      "source": [
        "len(ls)"
      ],
      "id": "27fbec5f"
    },
    {
      "cell_type": "markdown",
      "metadata": {
        "id": "6b5cc7a3"
      },
      "source": [
        "All the work above was done to ensure that each product ahas a unique PROD_NBR"
      ],
      "id": "6b5cc7a3"
    },
    {
      "cell_type": "markdown",
      "metadata": {
        "id": "dda1d946"
      },
      "source": [
        "#### TOT_SALE Distribution"
      ],
      "id": "dda1d946"
    },
    {
      "cell_type": "code",
      "execution_count": null,
      "metadata": {
        "id": "3827d85c"
      },
      "outputs": [],
      "source": [
        "transaction.describe()"
      ],
      "id": "3827d85c"
    },
    {
      "cell_type": "markdown",
      "metadata": {
        "id": "fbf9eda2"
      },
      "source": [
        "#### Detecting outliers\n",
        "\n",
        "- 1_ PROD_QTY"
      ],
      "id": "fbf9eda2"
    },
    {
      "cell_type": "markdown",
      "metadata": {
        "id": "y8G1urAo0LbO"
      },
      "source": [
        "PRO_QTY is my choice to detect outliers and as we can notice in the table above that the maximum in one transaction is 200 in the other hand the 1st,2nd, 3rd Quartiles are  much lower than 200, which means that 200 is a sign of outlier, lets use some functions to confirm"
      ],
      "id": "y8G1urAo0LbO"
    },
    {
      "cell_type": "code",
      "execution_count": null,
      "metadata": {
        "id": "2fe54271"
      },
      "outputs": [],
      "source": [
        "#Scatter  to visuailze how the data distributed\n",
        "plt.scatter(transaction[\"PROD_QTY\"],transaction[\"TOT_SALES\"])\n"
      ],
      "id": "2fe54271"
    },
    {
      "cell_type": "markdown",
      "metadata": {
        "id": "VIOimNBQ16sb"
      },
      "source": [
        "- It is abvious in the illustration above that we have transactions with  PROD_QTY = 200\n",
        "- in the next part We make visualization with and without outliers concedering the transaction of 200 as outlier and make comparison of how outliers can effect the data\n",
        "- At first. Let's extract the costumer and how many times the purchase happened   "
      ],
      "id": "VIOimNBQ16sb"
    },
    {
      "cell_type": "code",
      "execution_count": null,
      "metadata": {
        "id": "xGrIwAnBNlpz"
      },
      "outputs": [],
      "source": [
        "outliers_row  = transaction.loc[transaction['PROD_QTY'] == 200]\n",
        "outliers_row"
      ],
      "id": "xGrIwAnBNlpz"
    },
    {
      "cell_type": "markdown",
      "metadata": {
        "id": "VQs3fa-8PcFv"
      },
      "source": [
        "The extraction above shows that the customer bought Chips in two different days, the customer hold the loyality card (226000)"
      ],
      "id": "VQs3fa-8PcFv"
    },
    {
      "cell_type": "code",
      "execution_count": null,
      "metadata": {
        "id": "rsn48TzHUVgX"
      },
      "outputs": [],
      "source": [
        "# Let's see if the customer has had any other transactions with 226000 Loyality_card_number\n",
        "\n",
        "outliers_row  = transaction.loc[transaction['LYLTY_CARD_NBR'] == 226000]\n",
        "outliers_row"
      ],
      "id": "rsn48TzHUVgX"
    },
    {
      "cell_type": "markdown",
      "metadata": {
        "id": "6chR4EhAU77N"
      },
      "source": [
        "It looks like this customer has only had the two transactions over the year and is not an ordinary retail\n",
        "customer. The customer might be buying chips for commercial purposes instead. We’ll remove this loyalty\n",
        "card number from further analysis.\n"
      ],
      "id": "6chR4EhAU77N"
    },
    {
      "cell_type": "markdown",
      "metadata": {
        "id": "941dfab2"
      },
      "source": [
        "In the graph above we can see how outliers effect our Data and the analysis, which means We should be aware about Outliers in each case, and how the data normally distributed which for sure can be more helpful for our analysis instead of data with outliers"
      ],
      "id": "941dfab2"
    },
    {
      "cell_type": "markdown",
      "metadata": {
        "id": "1199f651"
      },
      "source": [
        "### Working on removing outliers\n",
        "\n",
        "> Because of removing outliers is very sensitive in Data analysis,Outliers can be detected using visualization, implementing mathematical formulas on the dataset, or using the statistical approach.l ike z_score, IQR Q! and Q3,but in our case We want just to remove the customer with 200 and Loyality card number of 226000, this approach is considered the best to get good results and insights.\n",
        "\n",
        "\n",
        "\n"
      ],
      "id": "1199f651"
    },
    {
      "cell_type": "code",
      "execution_count": null,
      "metadata": {
        "id": "6f4xStbvWVcB"
      },
      "outputs": [],
      "source": [
        "# Box Plot to showcase outliers\n",
        "import seaborn as sns\n",
        "sns.boxplot(transaction['PROD_QTY'])\n",
        "\n"
      ],
      "id": "6f4xStbvWVcB"
    },
    {
      "cell_type": "code",
      "execution_count": null,
      "metadata": {
        "id": "XSzRQvH1vMLB"
      },
      "outputs": [],
      "source": [
        "# Remove Outliers\n",
        "# In this case, We use loc command instead of complicated code\n",
        "\n",
        "transaction  = transaction.loc[transaction['LYLTY_CARD_NBR'] != 226000]\n",
        "transaction"
      ],
      "id": "XSzRQvH1vMLB"
    },
    {
      "cell_type": "code",
      "execution_count": null,
      "metadata": {
        "id": "KYbmcMV-wJpU"
      },
      "outputs": [],
      "source": [
        "# The code below shows how outliers removed from the DataFrame\n",
        "outliers_check = transaction.loc[transaction['LYLTY_CARD_NBR'] == 226000]\n",
        "outliers_check"
      ],
      "id": "KYbmcMV-wJpU"
    },
    {
      "cell_type": "code",
      "execution_count": null,
      "metadata": {
        "id": "1BRV2wFZwqOU"
      },
      "outputs": [],
      "source": [
        "# DataFrame summary after removing outliers\n",
        "\n",
        "transaction.describe()"
      ],
      "id": "1BRV2wFZwqOU"
    },
    {
      "cell_type": "markdown",
      "metadata": {
        "id": "8pUU-1-9x9bB"
      },
      "source": [
        "- Depending on the summary it looks better now to move to the next step where we can work with DATES to get more insights"
      ],
      "id": "8pUU-1-9x9bB"
    },
    {
      "cell_type": "code",
      "execution_count": null,
      "metadata": {
        "id": "-W0xRuU-y3-w"
      },
      "outputs": [],
      "source": [
        "# How much unique days We have in our dataset\n",
        "transaction[\"DATE\"].nunique()"
      ],
      "id": "-W0xRuU-y3-w"
    },
    {
      "cell_type": "markdown",
      "metadata": {
        "id": "orEH4ldpzqGe"
      },
      "source": [
        "- The dataset is approximately one year\n"
      ],
      "id": "orEH4ldpzqGe"
    },
    {
      "cell_type": "code",
      "execution_count": null,
      "metadata": {
        "id": "OP_0SRVFyS-A"
      },
      "outputs": [],
      "source": [
        "# lets check missing values again after outliers removal and DATES types conversion\n",
        "transaction.isnull().sum()"
      ],
      "id": "OP_0SRVFyS-A"
    },
    {
      "cell_type": "code",
      "execution_count": null,
      "metadata": {
        "id": "EUIGzuHa9Njf"
      },
      "outputs": [],
      "source": [
        "transaction[\"DATE\"] = pd.to_datetime(transaction[\"DATE\"], unit='D')\n",
        "transaction.sort_values(by = \"DATE\", inplace = True)\n",
        "transaction.head()"
      ],
      "id": "EUIGzuHa9Njf"
    },
    {
      "cell_type": "code",
      "execution_count": null,
      "metadata": {
        "id": "K39N9HFcVP_7"
      },
      "outputs": [],
      "source": [
        "# Using a inbuilt style to change\n",
        "# the look and feel of the plot\n",
        "plt.style.use(\"fivethirtyeight\")\n",
        "\n",
        "# setting figure size to 12, 10\n",
        "plt.figure(figsize=(10, 8))\n",
        "\n",
        "transaction_per_time = transaction.groupby(transaction.DATE)['TOT_SALES'].sum()\n",
        "# Labelling the axes and setting\n",
        "# a title\n",
        "plt.xlabel(\"Date\")\n",
        "plt.ylabel(\"PROD_QTY\")\n",
        "plt.plot(transaction_per_time, linewidth = .6)"
      ],
      "id": "K39N9HFcVP_7"
    },
    {
      "cell_type": "markdown",
      "metadata": {
        "id": "ozo9vXmeXU4a"
      },
      "source": [
        "We can see that there is an increase in purchases in December (The End of the year) and a break in late December. And decrease in purchases in the last days of August 2018 and May 2019"
      ],
      "id": "ozo9vXmeXU4a"
    },
    {
      "cell_type": "code",
      "source": [],
      "metadata": {
        "id": "746ZW3PrvvgJ"
      },
      "id": "746ZW3PrvvgJ",
      "execution_count": null,
      "outputs": []
    },
    {
      "cell_type": "code",
      "execution_count": null,
      "metadata": {
        "id": "MApiold5wEv2"
      },
      "outputs": [],
      "source": [
        "transaction_T_P = trnasaction[\"\"]\n",
        "transaction.groupby(transaction.DATE).sum().plot(subplots=True, figsize=(12, 15))\n"
      ],
      "id": "MApiold5wEv2"
    },
    {
      "cell_type": "markdown",
      "metadata": {
        "id": "e98fac86"
      },
      "source": [
        "#### ROD_NBR\t & PROD_QTY"
      ],
      "id": "e98fac86"
    },
    {
      "cell_type": "code",
      "execution_count": null,
      "metadata": {
        "id": "83d3f4ec"
      },
      "outputs": [],
      "source": [
        "group_PROD_NBR = transaction[['PROD_NBR','PROD_QTY']]\n",
        "grouped_PROD = group_PROD_NBR.groupby(['PROD_NBR']).sum()\n",
        "grouped_PROD.sort_values(['PROD_QTY'],ascending=False)[:10]"
      ],
      "id": "83d3f4ec"
    },
    {
      "cell_type": "code",
      "execution_count": null,
      "metadata": {
        "id": "e398a9f3"
      },
      "outputs": [],
      "source": [
        "group_PROD_NBR = transaction[['PROD_NBR','PROD_QTY']]\n",
        "grouped_PROD = group_PROD_NBR.groupby(['PROD_NBR']).sum()\n",
        "grouped_PROD.sort_values(['PROD_QTY'],ascending=False)[:10].plot(kind = \"pie\", subplots= True,figsize = (6,6),legend = False\n",
        "                                                                ,title = \"Illustration of the best 10th Saled Production and their QTY  \")"
      ],
      "id": "e398a9f3"
    },
    {
      "cell_type": "markdown",
      "metadata": {
        "id": "69acb126"
      },
      "source": [
        "#### ROD_NBR, PROD_QTY and TOT_SALES"
      ],
      "id": "69acb126"
    },
    {
      "cell_type": "code",
      "execution_count": null,
      "metadata": {
        "id": "a2012a41"
      },
      "outputs": [],
      "source": [
        "group_PROD_NBR_SALES = transaction[['PROD_NBR','PROD_QTY','TOT_SALES']]\n",
        "grouped_PROD_SALES = group_PROD_NBR_SALES.groupby(['PROD_NBR']).sum()\n",
        "grouped_PROD_SALES.sort_values(['TOT_SALES'],ascending=False)[:10]"
      ],
      "id": "a2012a41"
    },
    {
      "cell_type": "markdown",
      "metadata": {
        "id": "64afec64"
      },
      "source": [
        "- It can be seen that the data contains outliers and the scatter plot above illustrates that the PROD_QTY with 200 is an outlier value, but style rough to decide if we can drop it or not"
      ],
      "id": "64afec64"
    },
    {
      "cell_type": "markdown",
      "metadata": {
        "id": "h3VG3GhfyKK9"
      },
      "source": [
        "####################\n"
      ],
      "id": "h3VG3GhfyKK9"
    },
    {
      "cell_type": "markdown",
      "metadata": {
        "id": "f51b28ad"
      },
      "source": [
        "## 2) Purchase_behaviour -----------------------------------"
      ],
      "id": "f51b28ad"
    },
    {
      "cell_type": "markdown",
      "metadata": {
        "id": "fbb08019"
      },
      "source": [
        "This part is specified to analyse the second dataset of **purchased_behaviour**"
      ],
      "id": "fbb08019"
    },
    {
      "cell_type": "code",
      "execution_count": null,
      "metadata": {
        "id": "c28a1aac"
      },
      "outputs": [],
      "source": [
        "purchase_behaviour = pd.read_csv(r\"/content/QVI_purchase_behaviour.csv\")\n",
        "purchase_behaviour.head(20)"
      ],
      "id": "c28a1aac"
    },
    {
      "cell_type": "code",
      "execution_count": null,
      "metadata": {
        "id": "a16f1912"
      },
      "outputs": [],
      "source": [
        "purchase_behaviour.info()"
      ],
      "id": "a16f1912"
    },
    {
      "cell_type": "code",
      "execution_count": null,
      "metadata": {
        "id": "06d079bb"
      },
      "outputs": [],
      "source": [
        "# Check duplicate card numbers\n",
        "purchase_behaviour.LYLTY_CARD_NBR.duplicated().sum()"
      ],
      "id": "06d079bb"
    },
    {
      "cell_type": "code",
      "execution_count": null,
      "metadata": {
        "id": "859347ed"
      },
      "outputs": [],
      "source": [
        "# Missing Values\n",
        "purchase_behaviour.isnull().sum()"
      ],
      "id": "859347ed"
    },
    {
      "cell_type": "markdown",
      "metadata": {
        "id": "480b77f0"
      },
      "source": [
        "- ZERO missing values"
      ],
      "id": "480b77f0"
    },
    {
      "cell_type": "code",
      "execution_count": null,
      "metadata": {
        "id": "77cdac0f"
      },
      "outputs": [],
      "source": [
        "print(purchase_behaviour['LIFESTAGE'].value_counts())\n",
        "purchase_behaviour['LIFESTAGE'].value_counts().plot.pie(figsize=(7,7),title = \"Count of all lifestages exist\",legend = False,\n",
        "                                                       ylabel = \"\");"
      ],
      "id": "77cdac0f"
    },
    {
      "cell_type": "markdown",
      "metadata": {
        "id": "b4e6e7bb"
      },
      "source": [
        "- obvious that LIFESTAGE contains 7 classes"
      ],
      "id": "b4e6e7bb"
    },
    {
      "cell_type": "code",
      "execution_count": null,
      "metadata": {
        "id": "bd3b3c60"
      },
      "outputs": [],
      "source": [
        "# PREMIUM_CUSTOMER\n",
        "print(purchase_behaviour['PREMIUM_CUSTOMER'].value_counts())\n",
        "purchase_behaviour['PREMIUM_CUSTOMER'].value_counts().plot.bar(figsize=(7,7),title = \"Count of all PREMIUM CUSTOMERS exist\",legend = False,\n",
        "                                                       ylabel = \"\",rot = 0);"
      ],
      "id": "bd3b3c60"
    },
    {
      "cell_type": "markdown",
      "metadata": {
        "id": "2e033033"
      },
      "source": [
        "Depending on the illustration above of the bar graph Mainstream has the high amount with 29245 purhasing time fllowed by Budget and Premium with 24470  and 18922 respectively"
      ],
      "id": "2e033033"
    },
    {
      "cell_type": "code",
      "execution_count": null,
      "metadata": {
        "id": "93ff92c6"
      },
      "outputs": [],
      "source": [
        "(purchase_behaviour[['LIFESTAGE','PREMIUM_CUSTOMER']].groupby('LIFESTAGE').count()).plot.barh(legend = False)"
      ],
      "id": "93ff92c6"
    },
    {
      "cell_type": "code",
      "execution_count": null,
      "metadata": {
        "id": "73af9897"
      },
      "outputs": [],
      "source": [
        "purchase_behaviour[['LIFESTAGE','PREMIUM_CUSTOMER']].groupby(['PREMIUM_CUSTOMER','LIFESTAGE'])['PREMIUM_CUSTOMER'].count()"
      ],
      "id": "73af9897"
    },
    {
      "cell_type": "code",
      "execution_count": null,
      "metadata": {
        "id": "8f95c6db"
      },
      "outputs": [],
      "source": [],
      "id": "8f95c6db"
    }
  ],
  "metadata": {
    "colab": {
      "provenance": []
    },
    "kernelspec": {
      "display_name": "Python 3 (ipykernel)",
      "language": "python",
      "name": "python3"
    },
    "language_info": {
      "codemirror_mode": {
        "name": "ipython",
        "version": 3
      },
      "file_extension": ".py",
      "mimetype": "text/x-python",
      "name": "python",
      "nbconvert_exporter": "python",
      "pygments_lexer": "ipython3",
      "version": "3.9.7"
    }
  },
  "nbformat": 4,
  "nbformat_minor": 5
}